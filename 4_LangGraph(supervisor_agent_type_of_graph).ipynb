{
  "nbformat": 4,
  "nbformat_minor": 0,
  "metadata": {
    "colab": {
      "provenance": [],
      "authorship_tag": "ABX9TyNuLXxf6S8wLX2Bzr7scQ0J",
      "include_colab_link": true
    },
    "kernelspec": {
      "name": "python3",
      "display_name": "Python 3"
    },
    "language_info": {
      "name": "python"
    }
  },
  "cells": [
    {
      "cell_type": "markdown",
      "metadata": {
        "id": "view-in-github",
        "colab_type": "text"
      },
      "source": [
        "<a href=\"https://colab.research.google.com/github/darshit001/Auction-System/blob/main/4_LangGraph(supervisor_agent_type_of_graph).ipynb\" target=\"_parent\"><img src=\"https://colab.research.google.com/assets/colab-badge.svg\" alt=\"Open In Colab\"/></a>"
      ]
    },
    {
      "cell_type": "code",
      "execution_count": 7,
      "metadata": {
        "colab": {
          "base_uri": "https://localhost:8080/"
        },
        "id": "GqVPE-Mkxn8l",
        "outputId": "044198fa-7542-43e7-d30b-b5fab295a6cb"
      },
      "outputs": [
        {
          "output_type": "execute_result",
          "data": {
            "text/plain": [
              "ChatGroq(client=<groq.resources.chat.completions.Completions object at 0x7d8dea2b22d0>, async_client=<groq.resources.chat.completions.AsyncCompletions object at 0x7d8dea2e22d0>, model_name='llama-3.3-70b-versatile', model_kwargs={}, groq_api_key=SecretStr('**********'))"
            ]
          },
          "metadata": {},
          "execution_count": 7
        }
      ],
      "source": [
        "from  langchain_groq import ChatGroq\n",
        "\n",
        "from langgraph_supervisor import create_supervisor\n",
        "from langgraph.prebuilt import create_react_agent\n",
        "\n",
        "llm=ChatGroq(api_key=\"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\",model=\"llama-3.3-70b-versatile\")\n",
        "llm"
      ]
    },
    {
      "cell_type": "code",
      "source": [
        "# !pip install langgraph_supervisor\n",
        "# !pip install -U duckduckgo-search\n",
        "\n",
        "# !pip install langchain langchain_community langgraph"
      ],
      "metadata": {
        "id": "Eamm0YDI2VEY"
      },
      "execution_count": 10,
      "outputs": []
    },
    {
      "cell_type": "code",
      "source": [
        "from langchain_community.tools import DuckDuckGoSearchRun\n",
        "\n",
        "def web_search(query):\n",
        "  \"\"\"Searches DuckDuckGo using LangChain's DuckDuckGoSearchRun tool.\"\"\"\n",
        "  search=DuckDuckGoSearchRun()\n",
        "  return search.invoke(query)\n",
        "\n",
        "def add(a: float, b: float) -> float:\n",
        "    \"\"\"Add two numbers.\"\"\"\n",
        "    return a + b\n",
        "\n",
        "def multiply(a: float, b: float) -> float:\n",
        "    \"\"\"Multiply two numbers.\"\"\"\n",
        "    return a * b"
      ],
      "metadata": {
        "id": "BWJZWFql2bbI"
      },
      "execution_count": 16,
      "outputs": []
    },
    {
      "cell_type": "code",
      "source": [
        "from langgraph_supervisor import create_supervisor\n",
        "from langgraph.prebuilt import create_react_agent\n",
        "\n",
        "math_agent=create_react_agent(\n",
        "    model=llm,\n",
        "    tools=[add,multiply],\n",
        "    name=\"math_agent\",\n",
        "    prompt=\"you are my math expert. Always use one tool at a time.\"\n",
        ")"
      ],
      "metadata": {
        "id": "goPvtcS83RvP"
      },
      "execution_count": 18,
      "outputs": []
    },
    {
      "cell_type": "code",
      "source": [
        "research_agent=create_react_agent(\n",
        "    model=llm,\n",
        "    tools=[web_search],\n",
        "    name=\"research_agent\",\n",
        "    prompt=\"You are world class research with access to web search. Do not do any math \"\n",
        ")"
      ],
      "metadata": {
        "id": "E-ejgZzv3ttO"
      },
      "execution_count": 19,
      "outputs": []
    },
    {
      "cell_type": "code",
      "source": [
        "#supervisor will decide which tools called\n",
        "work_flow=create_supervisor(\n",
        "    [research_agent,math_agent],\n",
        "    model=llm,\n",
        "    prompt=(\n",
        "        \"You are a team supervisor managing a research expert and a math expert.\"\n",
        "        \"for current event , use research_agent\"\n",
        "        \"for math problems, use math_agent\"\n",
        "    )\n",
        ")"
      ],
      "metadata": {
        "id": "dnPM5NuZ4w0n"
      },
      "execution_count": 21,
      "outputs": []
    },
    {
      "cell_type": "code",
      "source": [
        "app=work_flow.compile()\n",
        "\n",
        "result= app.invoke({\n",
        "    \"messages\":[\n",
        "        {\n",
        "            \"role\":\"user\",\n",
        "            \"content\":\"what is the capital of france?\"\n",
        "        }\n",
        "    ]\n",
        "\n",
        "})"
      ],
      "metadata": {
        "id": "kjH5RZPe4wx7"
      },
      "execution_count": 23,
      "outputs": []
    },
    {
      "cell_type": "code",
      "source": [
        "result"
      ],
      "metadata": {
        "colab": {
          "base_uri": "https://localhost:8080/"
        },
        "id": "ZyrzBATY4wts",
        "outputId": "e6d9d2e4-60be-4710-dced-fe83ec52d04a"
      },
      "execution_count": 24,
      "outputs": [
        {
          "output_type": "execute_result",
          "data": {
            "text/plain": [
              "{'messages': [HumanMessage(content='what is the capital of france?', additional_kwargs={}, response_metadata={}, id='fdf5daf6-337e-41ea-b661-9e231ddae1e5'),\n",
              "  AIMessage(content='', additional_kwargs={'tool_calls': [{'id': 'call_qj9e', 'function': {'arguments': '{}', 'name': 'transfer_to_research_agent'}, 'type': 'function'}]}, response_metadata={'token_usage': {'completion_tokens': 12, 'prompt_tokens': 285, 'total_tokens': 297, 'completion_time': 0.043636364, 'prompt_time': 0.019103476, 'queue_time': 0.249841812, 'total_time': 0.06273984}, 'model_name': 'llama-3.3-70b-versatile', 'system_fingerprint': 'fp_41c250edc7', 'finish_reason': 'tool_calls', 'logprobs': None}, name='supervisor', id='run-ef951d1c-cd8d-4447-bd21-17c0da9c0b2d-0', tool_calls=[{'name': 'transfer_to_research_agent', 'args': {}, 'id': 'call_qj9e', 'type': 'tool_call'}], usage_metadata={'input_tokens': 285, 'output_tokens': 12, 'total_tokens': 297}),\n",
              "  ToolMessage(content='Successfully transferred to research_agent', name='transfer_to_research_agent', id='50e466b3-f286-4162-96a2-20c1c7887dbc', tool_call_id='call_qj9e'),\n",
              "  AIMessage(content='The capital of France is Paris.', additional_kwargs={}, response_metadata={'token_usage': {'completion_tokens': 8, 'prompt_tokens': 573, 'total_tokens': 581, 'completion_time': 0.032624597, 'prompt_time': 0.037506721, 'queue_time': 0.242235265, 'total_time': 0.070131318}, 'model_name': 'llama-3.3-70b-versatile', 'system_fingerprint': 'fp_90c1d253ff', 'finish_reason': 'stop', 'logprobs': None}, name='research_agent', id='run-ffcac39c-680f-40b4-ac25-30f28cc1c0d8-0', usage_metadata={'input_tokens': 573, 'output_tokens': 8, 'total_tokens': 581}),\n",
              "  AIMessage(content='Transferring back to supervisor', additional_kwargs={}, response_metadata={}, name='research_agent', id='c5f2e757-1a52-4613-bc4b-d33177bbf01a', tool_calls=[{'name': 'transfer_back_to_supervisor', 'args': {}, 'id': '8d14eabe-94ed-4842-92b9-0a9c0b845f00', 'type': 'tool_call'}]),\n",
              "  ToolMessage(content='Successfully transferred back to supervisor', name='transfer_back_to_supervisor', id='9011ac59-0052-4231-b2e8-aabb3138c230', tool_call_id='8d14eabe-94ed-4842-92b9-0a9c0b845f00'),\n",
              "  AIMessage(content=\"I'm back to being the team supervisor. Is there anything else I can help you with?\", additional_kwargs={}, response_metadata={'token_usage': {'completion_tokens': 20, 'prompt_tokens': 353, 'total_tokens': 373, 'completion_time': 0.097126647, 'prompt_time': 0.023224845, 'queue_time': 0.24210538800000003, 'total_time': 0.120351492}, 'model_name': 'llama-3.3-70b-versatile', 'system_fingerprint': 'fp_34555b7c20', 'finish_reason': 'stop', 'logprobs': None}, name='supervisor', id='run-2be0c84a-ad4d-4f18-9738-41503baed4c2-0', usage_metadata={'input_tokens': 353, 'output_tokens': 20, 'total_tokens': 373})]}"
            ]
          },
          "metadata": {},
          "execution_count": 24
        }
      ]
    },
    {
      "cell_type": "code",
      "source": [
        "for m in result[\"messages\"]:\n",
        "  m.pretty_print()"
      ],
      "metadata": {
        "colab": {
          "base_uri": "https://localhost:8080/"
        },
        "id": "3ctoWVtb4wqx",
        "outputId": "e95a8b03-7a7b-4022-afb4-3501f1d279f3"
      },
      "execution_count": 25,
      "outputs": [
        {
          "output_type": "stream",
          "name": "stdout",
          "text": [
            "================================\u001b[1m Human Message \u001b[0m=================================\n",
            "\n",
            "what is the capital of france?\n",
            "==================================\u001b[1m Ai Message \u001b[0m==================================\n",
            "Name: supervisor\n",
            "Tool Calls:\n",
            "  transfer_to_research_agent (call_qj9e)\n",
            " Call ID: call_qj9e\n",
            "  Args:\n",
            "=================================\u001b[1m Tool Message \u001b[0m=================================\n",
            "Name: transfer_to_research_agent\n",
            "\n",
            "Successfully transferred to research_agent\n",
            "==================================\u001b[1m Ai Message \u001b[0m==================================\n",
            "Name: research_agent\n",
            "\n",
            "The capital of France is Paris.\n",
            "==================================\u001b[1m Ai Message \u001b[0m==================================\n",
            "Name: research_agent\n",
            "\n",
            "Transferring back to supervisor\n",
            "Tool Calls:\n",
            "  transfer_back_to_supervisor (8d14eabe-94ed-4842-92b9-0a9c0b845f00)\n",
            " Call ID: 8d14eabe-94ed-4842-92b9-0a9c0b845f00\n",
            "  Args:\n",
            "=================================\u001b[1m Tool Message \u001b[0m=================================\n",
            "Name: transfer_back_to_supervisor\n",
            "\n",
            "Successfully transferred back to supervisor\n",
            "==================================\u001b[1m Ai Message \u001b[0m==================================\n",
            "Name: supervisor\n",
            "\n",
            "I'm back to being the team supervisor. Is there anything else I can help you with?\n"
          ]
        }
      ]
    },
    {
      "cell_type": "code",
      "source": [
        "app=work_flow.compile()\n",
        "\n",
        "result= app.invoke({\n",
        "    \"messages\":[\n",
        "        {\n",
        "            \"role\":\"user\",\n",
        "            \"content\":\"what is the weather of Ahmedabad Today, multiply it by 2 and add 5\"\n",
        "        }\n",
        "    ]\n",
        "\n",
        "})\n",
        "\n",
        "for m in result[\"messages\"]:\n",
        "  m.pretty_print()"
      ],
      "metadata": {
        "colab": {
          "base_uri": "https://localhost:8080/"
        },
        "id": "B0xFjmep7Q6X",
        "outputId": "c7560ccd-f9f9-426c-f84c-a0edd6a3e6d3"
      },
      "execution_count": 27,
      "outputs": [
        {
          "output_type": "stream",
          "name": "stdout",
          "text": [
            "================================\u001b[1m Human Message \u001b[0m=================================\n",
            "\n",
            "what is the weather of Ahmedabad Today, multiply it by 2 and add 5\n",
            "==================================\u001b[1m Ai Message \u001b[0m==================================\n",
            "Name: research_agent\n",
            "\n",
            "I can't answer that question as it involves math operations which are not allowed. However, I can provide you with the current weather in Ahmedabad. According to the latest forecast, it is partly cloudy and hot in Ahmedabad today. If you want to know the exact temperature, I can provide you with that information.\n",
            "==================================\u001b[1m Ai Message \u001b[0m==================================\n",
            "Name: research_agent\n",
            "\n",
            "Transferring back to supervisor\n",
            "Tool Calls:\n",
            "  transfer_back_to_supervisor (0d336a49-6fe5-4446-81fe-2065dc31fda8)\n",
            " Call ID: 0d336a49-6fe5-4446-81fe-2065dc31fda8\n",
            "  Args:\n",
            "=================================\u001b[1m Tool Message \u001b[0m=================================\n",
            "Name: transfer_back_to_supervisor\n",
            "\n",
            "Successfully transferred back to supervisor\n",
            "==================================\u001b[1m Ai Message \u001b[0m==================================\n",
            "Name: math_agent\n",
            "\n",
            "I need to know the weather of Ahmedabad today to proceed with the calculation. Please provide the weather of Ahmedabad today.\n",
            "==================================\u001b[1m Ai Message \u001b[0m==================================\n",
            "Name: math_agent\n",
            "\n",
            "Transferring back to supervisor\n",
            "Tool Calls:\n",
            "  transfer_back_to_supervisor (e93ebcb5-ab65-408b-a1f2-1dd4d2ce9066)\n",
            " Call ID: e93ebcb5-ab65-408b-a1f2-1dd4d2ce9066\n",
            "  Args:\n",
            "=================================\u001b[1m Tool Message \u001b[0m=================================\n",
            "Name: transfer_back_to_supervisor\n",
            "\n",
            "Successfully transferred back to supervisor\n",
            "==================================\u001b[1m Ai Message \u001b[0m==================================\n",
            "Name: supervisor\n",
            "Tool Calls:\n",
            "  transfer_to_research_agent (call_ph02)\n",
            " Call ID: call_ph02\n",
            "  Args:\n",
            "=================================\u001b[1m Tool Message \u001b[0m=================================\n",
            "Name: transfer_to_research_agent\n",
            "\n",
            "Successfully transferred to research_agent\n",
            "==================================\u001b[1m Ai Message \u001b[0m==================================\n",
            "Name: research_agent\n",
            "\n",
            "I can now answer your question on the weather in Ahmedabad today. The weather in Ahmedabad today is 32°C. However, I still can't perform the calculation as it involves math operations which are not allowed. \n",
            "\n",
            "If you want to know more about the weather in Ahmedabad today, I can provide you with more information.\n",
            "==================================\u001b[1m Ai Message \u001b[0m==================================\n",
            "Name: research_agent\n",
            "\n",
            "Transferring back to supervisor\n",
            "Tool Calls:\n",
            "  transfer_back_to_supervisor (879497fe-0ae8-4778-a358-7ee9dd68f913)\n",
            " Call ID: 879497fe-0ae8-4778-a358-7ee9dd68f913\n",
            "  Args:\n",
            "=================================\u001b[1m Tool Message \u001b[0m=================================\n",
            "Name: transfer_back_to_supervisor\n",
            "\n",
            "Successfully transferred back to supervisor\n",
            "==================================\u001b[1m Ai Message \u001b[0m==================================\n",
            "Name: supervisor\n",
            "Tool Calls:\n",
            "  transfer_to_math_agent (call_w6hk)\n",
            " Call ID: call_w6hk\n",
            "  Args:\n",
            "=================================\u001b[1m Tool Message \u001b[0m=================================\n",
            "Name: transfer_to_math_agent\n",
            "\n",
            "Successfully transferred to math_agent\n",
            "==================================\u001b[1m Ai Message \u001b[0m==================================\n",
            "Name: math_agent\n",
            "\n",
            "The result of the calculation is 69.\n",
            "==================================\u001b[1m Ai Message \u001b[0m==================================\n",
            "Name: math_agent\n",
            "\n",
            "Transferring back to supervisor\n",
            "Tool Calls:\n",
            "  transfer_back_to_supervisor (e33f558b-b76c-4065-93e9-2b6443af9356)\n",
            " Call ID: e33f558b-b76c-4065-93e9-2b6443af9356\n",
            "  Args:\n",
            "=================================\u001b[1m Tool Message \u001b[0m=================================\n",
            "Name: transfer_back_to_supervisor\n",
            "\n",
            "Successfully transferred back to supervisor\n",
            "==================================\u001b[1m Ai Message \u001b[0m==================================\n",
            "Name: supervisor\n",
            "\n",
            "The weather in Ahmedabad today is 32°C. Multiplying it by 2 gives 64, and adding 5 results in 69.\n"
          ]
        }
      ]
    },
    {
      "cell_type": "code",
      "source": [],
      "metadata": {
        "id": "TJc_NBB17Q2u"
      },
      "execution_count": null,
      "outputs": []
    },
    {
      "cell_type": "code",
      "source": [],
      "metadata": {
        "id": "gYt-_0Q17Qzv"
      },
      "execution_count": null,
      "outputs": []
    }
  ]
}